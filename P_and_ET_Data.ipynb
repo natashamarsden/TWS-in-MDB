{
 "cells": [
  {
   "cell_type": "code",
   "execution_count": 14,
   "id": "4282d906-cf0e-474e-807e-125b90a44cd4",
   "metadata": {},
   "outputs": [],
   "source": [
    "# import all necessary libraries\n",
    "\n",
    "import functions\n",
    "\n",
    "from functions import mask_data\n",
    "from functions import plot_aus\n",
    "\n",
    "import geopandas as gpd\n",
    "import xarray\n",
    "from shapely.geometry import mapping\n",
    "\n",
    "import numpy as np\n",
    "import scipy.io as sio\n",
    "import matplotlib.pyplot as plt\n",
    "\n",
    "import cartopy.crs as ccrs\n",
    "\n",
    "import pandas as pd\n",
    "from datetime import datetime\n",
    "\n",
    "import os\n",
    "\n",
    "from sklearn.metrics import mean_squared_error\n",
    "\n",
    "import matplotlib.patches as mpatches\n",
    "import matplotlib.lines as mlines\n",
    "import matplotlib.ticker as mticker\n",
    "\n",
    "from shapely.geometry import Point"
   ]
  },
  {
   "cell_type": "markdown",
   "id": "e96c49c0-55b1-4472-a11e-3c7f13c418a5",
   "metadata": {},
   "source": [
    "ERA 5 Data"
   ]
  },
  {
   "cell_type": "code",
   "execution_count": 2,
   "id": "469d4948-7140-4076-b078-fdaf22c90e2a",
   "metadata": {},
   "outputs": [],
   "source": [
    "# open data\n",
    "ERA5_path = 'ERA5-Land/all_monthly_data_ERA5.nc'\n",
    "ERA5_data = xarray.open_dataset(ERA5_path)\n",
    "\n",
    "# combine exp ver 1 and exp ver 5\n",
    "ERA5_data = ERA5_data.sel(expver=1).combine_first(ERA5_data.sel(expver=5))\n",
    "\n",
    "# Extract time values\n",
    "time_values = ERA5_data['time'].values\n",
    "\n",
    "# Compute midpoint times\n",
    "mid_times = time_values[:-1] + (time_values[1:] - time_values[:-1]) / 2\n",
    "\n",
    "# Average data over consecutive time steps for all data variables\n",
    "data_vars = {}\n",
    "for var in ERA5_data.data_vars:\n",
    "    # Extract raw data with .data to avoid ambiguity\n",
    "    avg_data = ((ERA5_data[var].isel(time=slice(0, -1)).data + ERA5_data[var].isel(time=slice(1, None)).data) / 2)\n",
    "    data_vars[var] = (('time', 'latitude', 'longitude'), avg_data)\n",
    "\n",
    "# Create new dataset with updated time values\n",
    "averaged_data = xarray.Dataset(\n",
    "    data_vars,\n",
    "    coords={\n",
    "        'time': mid_times,\n",
    "        'latitude': ERA5_data['latitude'].data,  # Extract raw data\n",
    "        'longitude': ERA5_data['longitude'].data  # Extract raw data\n",
    "    }\n",
    ")\n",
    "\n",
    "ERA5_data = averaged_data"
   ]
  },
  {
   "cell_type": "code",
   "execution_count": 3,
   "id": "6ec7c9ad-646c-43a2-b93e-a5b8d0226493",
   "metadata": {},
   "outputs": [],
   "source": [
    "# Define the date range to slice the data\n",
    "start_date = '2002-06-01'\n",
    "end_date = '2024-04-30'\n",
    "\n",
    "# Slice the xarray based on the time range\n",
    "ERA5_data = ERA5_data.sel(time=slice(start_date, end_date))"
   ]
  },
  {
   "cell_type": "code",
   "execution_count": 4,
   "id": "c02919cb-f1c1-435b-852c-8288888eca86",
   "metadata": {},
   "outputs": [],
   "source": [
    "# get precip and ET data from ERA-5\n",
    "precip_data_ERA5 = ERA5_data.tp *30\n",
    "evap_data_ERA5 = ERA5_data.e *30"
   ]
  },
  {
   "cell_type": "markdown",
   "id": "9a60d577-7d4e-4cbb-a243-9af83bee120a",
   "metadata": {},
   "source": [
    "AWRA-L Data"
   ]
  },
  {
   "cell_type": "code",
   "execution_count": 5,
   "id": "1de8b38c-1e8f-48ea-a112-0586ff765083",
   "metadata": {},
   "outputs": [],
   "source": [
    "# open data\n",
    "awra_p_path = 'AWRA-L/rain_day.nc'\n",
    "awra_p_data = xarray.open_dataset(awra_p_path)\n",
    "\n",
    "# Extract time values\n",
    "time_values = awra_p_data['time'].values\n",
    "\n",
    "# Compute midpoint times\n",
    "mid_times = time_values[:-1] + (time_values[1:] - time_values[:-1]) / 2\n",
    "\n",
    "# Initialize dictionary for processed data variables\n",
    "data_vars = {}\n",
    "\n",
    "for var in awra_p_data.data_vars:\n",
    "    # Check if the variable contains datetime values (we only want numerical data)\n",
    "    if np.issubdtype(awra_p_data[var].dtype, np.datetime64):\n",
    "        continue  # Skip datetime variables\n",
    "\n",
    "    # Compute the average over consecutive time steps\n",
    "    avg_data = (awra_p_data[var].isel(time=slice(0, -1)).data + awra_p_data[var].isel(time=slice(1, None)).data) / 2\n",
    "    data_vars[var] = (('time', 'latitude', 'longitude'), avg_data)\n",
    "\n",
    "# Create new dataset with updated time values\n",
    "averaged_data = xarray.Dataset(\n",
    "    data_vars,\n",
    "    coords={\n",
    "        'time': mid_times,\n",
    "        'latitude': awra_p_data['latitude'].data,\n",
    "        'longitude': awra_p_data['longitude'].data\n",
    "    }\n",
    ")\n",
    "\n",
    "awra_p_data = averaged_data"
   ]
  },
  {
   "cell_type": "code",
   "execution_count": 6,
   "id": "8f7649b5-52b7-4a33-92f6-5b16748d7693",
   "metadata": {},
   "outputs": [],
   "source": [
    "# Define the date range to slice the data\n",
    "start_date = '2002-06-01'\n",
    "end_date = '2024-04-30'\n",
    "\n",
    "# Slice the xarray based on the time range\n",
    "awra_p_data = awra_p_data.sel(time=slice(start_date, end_date))"
   ]
  },
  {
   "cell_type": "code",
   "execution_count": 7,
   "id": "26b03167-ca4e-4f7c-a459-39a94fee27dd",
   "metadata": {},
   "outputs": [],
   "source": [
    "# open data\n",
    "awra_et_path = 'AWRA-L/AWRA-L-8524-etot.nc'\n",
    "awra_et_data = xarray.open_dataset(awra_et_path)\n",
    "\n",
    "# Extract time values\n",
    "time_values = awra_et_data['time'].values\n",
    "\n",
    "# Compute midpoint times safely\n",
    "mid_times = time_values[:-1] + (time_values[1:] - time_values[:-1]) / 2\n",
    "\n",
    "# Initialize dictionary for processed data variables\n",
    "data_vars = {}\n",
    "\n",
    "for var in awra_et_data.data_vars:\n",
    "    # Check if the variable contains datetime values (we only want numerical data)\n",
    "    if np.issubdtype(awra_et_data[var].dtype, np.datetime64):\n",
    "        continue  # Skip datetime variables\n",
    "\n",
    "    # Compute the average over consecutive time steps\n",
    "    avg_data = (awra_et_data[var].isel(time=slice(0, -1)).data + awra_et_data[var].isel(time=slice(1, None)).data) / 2\n",
    "    data_vars[var] = (('time', 'latitude', 'longitude'), avg_data)\n",
    "\n",
    "# Create new dataset with updated time values\n",
    "averaged_data = xarray.Dataset(\n",
    "    data_vars,\n",
    "    coords={\n",
    "        'time': mid_times,\n",
    "        'latitude': awra_et_data['latitude'].data,\n",
    "        'longitude': awra_et_data['longitude'].data\n",
    "    }\n",
    ")\n",
    "\n",
    "awra_et_data = averaged_data"
   ]
  },
  {
   "cell_type": "code",
   "execution_count": 8,
   "id": "69675760-eabc-4fac-bf7d-730c0ee133ed",
   "metadata": {},
   "outputs": [],
   "source": [
    "# Define the date range to slice the data\n",
    "start_date = '2002-06-01'\n",
    "end_date = '2024-04-30'\n",
    "\n",
    "# Slice the xarray based on the time range\n",
    "awra_et_data = awra_et_data.sel(time=slice(start_date, end_date))"
   ]
  },
  {
   "cell_type": "code",
   "execution_count": 9,
   "id": "a44bc501-005b-45c6-b58b-5abab3958b91",
   "metadata": {},
   "outputs": [],
   "source": [
    "# get precip and ET data from AWRA\n",
    "precip_data_awra = awra_p_data.rain_day / 1000 # to m\n",
    "et_data_awra = awra_et_data.etot / 1000 # to m"
   ]
  },
  {
   "cell_type": "markdown",
   "id": "59bbb2c3-0ef2-4982-adf4-41cbd8682099",
   "metadata": {},
   "source": [
    "CMRSET Data"
   ]
  },
  {
   "cell_type": "code",
   "execution_count": 10,
   "id": "6d96244e-aae9-4493-bc25-725c3db0cbaa",
   "metadata": {},
   "outputs": [],
   "source": [
    "# open data\n",
    "cmrset_path = 'AWAP_and_CMRSET/CMRSET_data.nc'\n",
    "cmrset_data = xarray.open_dataset(cmrset_path)"
   ]
  },
  {
   "cell_type": "code",
   "execution_count": 11,
   "id": "b5764e19-0612-4b17-9241-d66055fdf2a8",
   "metadata": {},
   "outputs": [],
   "source": [
    "# cut data to start at May 2002 and end at April 2024\n",
    "\n",
    "# Define the date range to slice the data\n",
    "start_date = '2002-05-01'\n",
    "end_date = '2024-04-30'\n",
    "\n",
    "# Slice the xarray based on the time range\n",
    "cmrset_data = cmrset_data.sel(time=slice(start_date, end_date))"
   ]
  },
  {
   "cell_type": "code",
   "execution_count": 12,
   "id": "297d60ce-be60-4a59-a0f3-908bf41e5328",
   "metadata": {},
   "outputs": [],
   "source": [
    "# get ET data from CMRSET\n",
    "et_data_cmrset = cmrset_data.aET / 1000 # to m"
   ]
  },
  {
   "cell_type": "markdown",
   "id": "f66b4eff-930d-413b-a641-83c9b64df6b8",
   "metadata": {},
   "source": [
    "Save Data"
   ]
  },
  {
   "cell_type": "code",
   "execution_count": 13,
   "id": "09c28e8a-4ab4-413d-b046-0ea10b0a6ce1",
   "metadata": {},
   "outputs": [],
   "source": [
    "precip_data_ERA5.to_netcdf('Processed Data/Models/ERA5-p.nc')\n",
    "evap_data_ERA5.to_netcdf('Processed Data/Models/ERA5-et.nc')\n",
    "precip_data_awra.to_netcdf('Processed Data/Models/AWRA-p.nc')\n",
    "et_data_awra.to_netcdf('Processed Data/Models/AWRA-et.nc')\n",
    "et_data_cmrset.to_netcdf('Processed Data/Models/CMRSET.nc')"
   ]
  },
  {
   "cell_type": "code",
   "execution_count": null,
   "id": "62f1929d-2828-4197-a937-0ee302fdf576",
   "metadata": {},
   "outputs": [],
   "source": []
  },
  {
   "cell_type": "code",
   "execution_count": 3,
   "id": "4d73c438-8ca9-4b6e-9fff-59387e00cbb2",
   "metadata": {},
   "outputs": [],
   "source": []
  }
 ],
 "metadata": {
  "kernelspec": {
   "display_name": "Python 3 (ipykernel)",
   "language": "python",
   "name": "python3"
  },
  "language_info": {
   "codemirror_mode": {
    "name": "ipython",
    "version": 3
   },
   "file_extension": ".py",
   "mimetype": "text/x-python",
   "name": "python",
   "nbconvert_exporter": "python",
   "pygments_lexer": "ipython3",
   "version": "3.11.6"
  }
 },
 "nbformat": 4,
 "nbformat_minor": 5
}
